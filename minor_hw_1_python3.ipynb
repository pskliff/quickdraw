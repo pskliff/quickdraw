{
 "cells": [
  {
   "cell_type": "markdown",
   "metadata": {
    "colab_type": "text",
    "id": "SyANz8j-KyNF"
   },
   "source": [
    "# Imports"
   ]
  },
  {
   "cell_type": "code",
   "execution_count": 0,
   "metadata": {
    "ExecuteTime": {
     "end_time": "2018-11-06T21:37:00.683173Z",
     "start_time": "2018-11-06T21:37:00.393365Z"
    },
    "colab": {},
    "colab_type": "code",
    "id": "NjYM4VHAKyNI"
   },
   "outputs": [],
   "source": [
    "import zipfile\n",
    "import numpy as np\n",
    "import pandas as pd\n",
    "import os\n",
    "import tqdm\n",
    "import matplotlib \n",
    "%matplotlib inline\n",
    "import matplotlib.pyplot as plt\n",
    "import csv\n",
    "import io\n",
    "import ast\n",
    "from PIL import Image, ImageDraw"
   ]
  },
  {
   "cell_type": "markdown",
   "metadata": {
    "colab_type": "text",
    "id": "6Ah5N_WbKyNM"
   },
   "source": [
    "# Download data from Kaggle"
   ]
  },
  {
   "cell_type": "code",
   "execution_count": 2,
   "metadata": {
    "colab": {
     "base_uri": "https://localhost:8080/",
     "height": 453
    },
    "colab_type": "code",
    "id": "RjXJYx-6KyNN",
    "outputId": "4348db6c-cfe1-40f2-d712-1a797ff0a673"
   },
   "outputs": [
    {
     "name": "stdout",
     "output_type": "stream",
     "text": [
      "Collecting kaggle\n",
      "\u001b[?25l  Downloading https://files.pythonhosted.org/packages/83/9b/ac57e15fbb239c6793c8d0b7dfd1a4c4a025eaa9f791b5388a7afb515aed/kaggle-1.5.0.tar.gz (53kB)\n",
      "\u001b[K    100% |████████████████████████████████| 61kB 5.3MB/s \n",
      "\u001b[?25hRequirement already satisfied, skipping upgrade: urllib3<1.23.0,>=1.15 in /usr/local/lib/python3.6/dist-packages (from kaggle) (1.22)\n",
      "Requirement already satisfied, skipping upgrade: six>=1.10 in /usr/local/lib/python3.6/dist-packages (from kaggle) (1.11.0)\n",
      "Requirement already satisfied, skipping upgrade: certifi in /usr/local/lib/python3.6/dist-packages (from kaggle) (2018.10.15)\n",
      "Requirement already satisfied, skipping upgrade: python-dateutil in /usr/local/lib/python3.6/dist-packages (from kaggle) (2.5.3)\n",
      "Requirement already satisfied, skipping upgrade: requests in /usr/local/lib/python3.6/dist-packages (from kaggle) (2.18.4)\n",
      "Requirement already satisfied, skipping upgrade: tqdm in /usr/local/lib/python3.6/dist-packages (from kaggle) (4.28.1)\n",
      "Collecting python-slugify (from kaggle)\n",
      "  Downloading https://files.pythonhosted.org/packages/00/ad/c778a6df614b6217c30fe80045b365bfa08b5dd3cb02e8b37a6d25126781/python-slugify-1.2.6.tar.gz\n",
      "Requirement already satisfied, skipping upgrade: idna<2.7,>=2.5 in /usr/local/lib/python3.6/dist-packages (from requests->kaggle) (2.6)\n",
      "Requirement already satisfied, skipping upgrade: chardet<3.1.0,>=3.0.2 in /usr/local/lib/python3.6/dist-packages (from requests->kaggle) (3.0.4)\n",
      "Collecting Unidecode>=0.04.16 (from python-slugify->kaggle)\n",
      "\u001b[?25l  Downloading https://files.pythonhosted.org/packages/59/ef/67085e30e8bbcdd76e2f0a4ad8151c13a2c5bce77c85f8cad6e1f16fb141/Unidecode-1.0.22-py2.py3-none-any.whl (235kB)\n",
      "\u001b[K    100% |████████████████████████████████| 235kB 14.5MB/s \n",
      "\u001b[?25hBuilding wheels for collected packages: kaggle, python-slugify\n",
      "  Running setup.py bdist_wheel for kaggle ... \u001b[?25l-\b \b\\\b \bdone\n",
      "\u001b[?25h  Stored in directory: /root/.cache/pip/wheels/8b/21/3b/a0076243c6ae12a6215b2da515fe06b539aee7217b406e510e\n",
      "  Running setup.py bdist_wheel for python-slugify ... \u001b[?25l-\b \bdone\n",
      "\u001b[?25h  Stored in directory: /root/.cache/pip/wheels/e3/65/da/2045deea3098ed7471eca0e2460cfbd3fdfe8c1d6fa6fcac92\n",
      "Successfully built kaggle python-slugify\n",
      "Installing collected packages: Unidecode, python-slugify, kaggle\n",
      "Successfully installed Unidecode-1.0.22 kaggle-1.5.0 python-slugify-1.2.6\n"
     ]
    }
   ],
   "source": [
    "! pip install kaggle --upgrade"
   ]
  },
  {
   "cell_type": "code",
   "execution_count": 3,
   "metadata": {
    "ExecuteTime": {
     "end_time": "2018-11-06T15:29:19.895974Z",
     "start_time": "2018-11-06T15:26:21.334564Z"
    },
    "colab": {
     "base_uri": "https://localhost:8080/",
     "height": 69
    },
    "colab_type": "code",
    "id": "zJQnuWgvKyNQ",
    "outputId": "bae93874-be17-4138-c1f9-41b9db36cfd1"
   },
   "outputs": [
    {
     "name": "stdout",
     "output_type": "stream",
     "text": [
      "Downloading train_simplified.zip to /content\n",
      "100% 7.37G/7.37G [01:15<00:00, 118MB/s]\n",
      "100% 7.37G/7.37G [01:15<00:00, 105MB/s]\n"
     ]
    }
   ],
   "source": [
    "# get <token> from https://www.kaggle.com/<user>/account, click \"Create New API Token\", open json file\n",
    "! KAGGLE_USERNAME=<> KAGGLE_KEY=<> kaggle competitions download -c quickdraw-doodle-recognition -f train_simplified.zip"
   ]
  },
  {
   "cell_type": "code",
   "execution_count": 0,
   "metadata": {
    "ExecuteTime": {
     "end_time": "2018-11-06T21:37:02.464243Z",
     "start_time": "2018-11-06T21:37:02.419563Z"
    },
    "colab": {},
    "colab_type": "code",
    "id": "i_SA4rjmKyNW"
   },
   "outputs": [],
   "source": [
    "# open zip file, will read everything from it\n",
    "zf = zipfile.ZipFile(\"train_simplified.zip\")"
   ]
  },
  {
   "cell_type": "markdown",
   "metadata": {
    "colab_type": "text",
    "id": "wEwiaCXH7ACE"
   },
   "source": [
    "# Methods"
   ]
  },
  {
   "cell_type": "markdown",
   "metadata": {
    "colab_type": "text",
    "id": "pMaqIRws8yz9"
   },
   "source": [
    "## Look at data csvs"
   ]
  },
  {
   "cell_type": "code",
   "execution_count": 0,
   "metadata": {
    "colab": {},
    "colab_type": "code",
    "id": "asN59lCs81qi"
   },
   "outputs": [],
   "source": [
    "cnames = ['countrycode', 'drawing', 'key_id', 'recognized', 'timestamp', 'word']\n",
    "drawlist = []\n",
    "fnames = zf.namelist()"
   ]
  },
  {
   "cell_type": "code",
   "execution_count": 14,
   "metadata": {
    "colab": {
     "base_uri": "https://localhost:8080/",
     "height": 171
    },
    "colab_type": "code",
    "id": "LkELmbO-83AA",
    "outputId": "7bbcf329-d7f2-4e22-c3d4-77aacf614c1f"
   },
   "outputs": [
    {
     "data": {
      "text/html": [
       "<div>\n",
       "<style scoped>\n",
       "    .dataframe tbody tr th:only-of-type {\n",
       "        vertical-align: middle;\n",
       "    }\n",
       "\n",
       "    .dataframe tbody tr th {\n",
       "        vertical-align: top;\n",
       "    }\n",
       "\n",
       "    .dataframe thead th {\n",
       "        text-align: right;\n",
       "    }\n",
       "</style>\n",
       "<table border=\"1\" class=\"dataframe\">\n",
       "  <thead>\n",
       "    <tr style=\"text-align: right;\">\n",
       "      <th></th>\n",
       "      <th>countrycode</th>\n",
       "      <th>drawing</th>\n",
       "      <th>key_id</th>\n",
       "      <th>recognized</th>\n",
       "      <th>timestamp</th>\n",
       "      <th>word</th>\n",
       "    </tr>\n",
       "  </thead>\n",
       "  <tbody>\n",
       "    <tr>\n",
       "      <th>0</th>\n",
       "      <td>GB</td>\n",
       "      <td>[[[14, 14], [82, 8]], [[55, 56], [62, 11]], [[...</td>\n",
       "      <td>5222727398981632</td>\n",
       "      <td>True</td>\n",
       "      <td>2017-03-26 18:54:05.597120</td>\n",
       "      <td>fence</td>\n",
       "    </tr>\n",
       "    <tr>\n",
       "      <th>1</th>\n",
       "      <td>US</td>\n",
       "      <td>[[[2, 0, 3, 12, 52, 76, 76, 71], [154, 124, 31...</td>\n",
       "      <td>6465072190717952</td>\n",
       "      <td>True</td>\n",
       "      <td>2017-03-23 18:40:23.744720</td>\n",
       "      <td>fence</td>\n",
       "    </tr>\n",
       "    <tr>\n",
       "      <th>2</th>\n",
       "      <td>JP</td>\n",
       "      <td>[[[79, 59, 38, 31, 38, 62, 100, 138, 155, 158,...</td>\n",
       "      <td>4842254327873536</td>\n",
       "      <td>True</td>\n",
       "      <td>2017-01-03 12:13:44.539970</td>\n",
       "      <td>yoga</td>\n",
       "    </tr>\n",
       "    <tr>\n",
       "      <th>3</th>\n",
       "      <td>DE</td>\n",
       "      <td>[[[255, 90, 4], [141, 130, 128]], [[254, 252, ...</td>\n",
       "      <td>5733923290087424</td>\n",
       "      <td>True</td>\n",
       "      <td>2017-04-02 16:54:23.439260</td>\n",
       "      <td>yoga</td>\n",
       "    </tr>\n",
       "  </tbody>\n",
       "</table>\n",
       "</div>"
      ],
      "text/plain": [
       "  countrycode                                            drawing  \\\n",
       "0          GB  [[[14, 14], [82, 8]], [[55, 56], [62, 11]], [[...   \n",
       "1          US  [[[2, 0, 3, 12, 52, 76, 76, 71], [154, 124, 31...   \n",
       "2          JP  [[[79, 59, 38, 31, 38, 62, 100, 138, 155, 158,...   \n",
       "3          DE  [[[255, 90, 4], [141, 130, 128]], [[254, 252, ...   \n",
       "\n",
       "             key_id recognized                   timestamp   word  \n",
       "0  5222727398981632       True  2017-03-26 18:54:05.597120  fence  \n",
       "1  6465072190717952       True  2017-03-23 18:40:23.744720  fence  \n",
       "2  4842254327873536       True  2017-01-03 12:13:44.539970   yoga  \n",
       "3  5733923290087424       True  2017-04-02 16:54:23.439260   yoga  "
      ]
     },
     "execution_count": 14,
     "metadata": {
      "tags": []
     },
     "output_type": "execute_result"
    }
   ],
   "source": [
    "for fn in fnames[0:2]:\n",
    "    with io.TextIOWrapper(zf.open(fn)) as f:\n",
    "      first = pd.read_csv(f, nrows=10) # make sure we get a recognized drawing\n",
    "      first = first[first.recognized==True].head(2)\n",
    "      drawlist.append(first)\n",
    "draw_df = pd.DataFrame(np.concatenate(drawlist), columns=cnames)\n",
    "draw_df"
   ]
  },
  {
   "cell_type": "markdown",
   "metadata": {
    "colab_type": "text",
    "id": "36RmFwO5KyNa"
   },
   "source": [
    "## Data generators from disk (no need to store in RAM)"
   ]
  },
  {
   "cell_type": "code",
   "execution_count": 5,
   "metadata": {
    "ExecuteTime": {
     "end_time": "2018-11-06T21:37:03.006758Z",
     "start_time": "2018-11-06T21:37:02.992775Z"
    },
    "colab": {
     "base_uri": "https://localhost:8080/",
     "height": 35
    },
    "colab_type": "code",
    "id": "fab2y75lKyNc",
    "outputId": "1fb5d91c-512a-45fc-de8b-68149a4fa910"
   },
   "outputs": [
    {
     "data": {
      "text/plain": [
       "['fence', 'yoga', 'horse', 'sandwich', 'cat']"
      ]
     },
     "execution_count": 5,
     "metadata": {
      "tags": []
     },
     "output_type": "execute_result"
    }
   ],
   "source": [
    "class_labels = list(map(lambda x: x.replace(\".csv\", \"\"), zf.namelist()))\n",
    "\n",
    "class_labels[:5]"
   ]
  },
  {
   "cell_type": "code",
   "execution_count": 0,
   "metadata": {
    "ExecuteTime": {
     "end_time": "2018-11-06T21:37:04.322496Z",
     "start_time": "2018-11-06T21:37:04.313318Z"
    },
    "colab": {},
    "colab_type": "code",
    "id": "DM5P08TjKyNf"
   },
   "outputs": [],
   "source": [
    "# loop through file eternally\n",
    "def get_eternal_csv_generator(fn, debug=False):\n",
    "  while True:\n",
    "    with io.TextIOWrapper(zf.open(fn)) as f:\n",
    "      f.readline()  # skip header\n",
    "      for line in csv.reader(f, delimiter=',', quotechar='\"'):\n",
    "        yield line[1], line[5]\n",
    "        if debug:\n",
    "          print(fn, \"is done, starting from the beginning...\")"
   ]
  },
  {
   "cell_type": "code",
   "execution_count": 0,
   "metadata": {
    "ExecuteTime": {
     "end_time": "2018-11-06T21:37:07.281206Z",
     "start_time": "2018-11-06T21:37:04.519436Z"
    },
    "colab": {},
    "colab_type": "code",
    "id": "h0OZot9VKyNi",
    "scrolled": true
   },
   "outputs": [],
   "source": [
    "# test\n",
    "gen = get_eternal_csv_generator(\"yoga.csv\", debug=True)\n",
    "for line in tqdm.tqdm(gen):\n",
    "    pass"
   ]
  },
  {
   "cell_type": "code",
   "execution_count": 0,
   "metadata": {
    "ExecuteTime": {
     "end_time": "2018-11-06T21:37:10.210955Z",
     "start_time": "2018-11-06T21:37:10.201921Z"
    },
    "colab": {},
    "colab_type": "code",
    "id": "4EtR38slKyNl"
   },
   "outputs": [],
   "source": [
    "def raw_batch_generator(batch_size, debug=False):\n",
    "    generators = np.array([get_eternal_csv_generator(fn, debug) for fn in zf.namelist()])\n",
    "    while True:\n",
    "        random_indices = np.random.randint(0, len(generators), size=batch_size)\n",
    "        if debug:\n",
    "          print(\"Random_indices = {} \\n\".format(random_indices))\n",
    "          print()\n",
    "          print(\"Random_generators = {} \\n\".format(generators[random_indices]))\n",
    "          print()\n",
    "        yield [next(gen) for gen in generators[random_indices]]"
   ]
  },
  {
   "cell_type": "code",
   "execution_count": 0,
   "metadata": {
    "ExecuteTime": {
     "end_time": "2018-11-06T21:37:14.653794Z",
     "start_time": "2018-11-06T21:37:10.737697Z"
    },
    "colab": {},
    "colab_type": "code",
    "id": "mcs91MxXKyNm",
    "scrolled": true
   },
   "outputs": [],
   "source": [
    "# test\n",
    "for batch in tqdm.tqdm(raw_batch_generator(batch_size=32, debug=False)):\n",
    "    if np.random.random() < 0.0001:\n",
    "        print([e[1] for e in batch])"
   ]
  },
  {
   "cell_type": "markdown",
   "metadata": {
    "colab_type": "text",
    "id": "kgBbxL7QKyNs"
   },
   "source": [
    "##  Images generator"
   ]
  },
  {
   "cell_type": "code",
   "execution_count": 0,
   "metadata": {
    "ExecuteTime": {
     "end_time": "2018-11-06T21:37:29.119051Z",
     "start_time": "2018-11-06T21:37:29.103574Z"
    },
    "colab": {},
    "colab_type": "code",
    "id": "OM-GI5TBKyNt"
   },
   "outputs": [],
   "source": [
    "# copy-paste from https://www.kaggle.com/jpmiller/image-based-cnn\n",
    "\n",
    "IMG_SIZE = 224\n",
    "\n",
    "# faster conversion function\n",
    "def draw_it(strokes, img_size=224):\n",
    "    image = Image.new(\"P\", (256, 256), color=255)\n",
    "    image_draw = ImageDraw.Draw(image)\n",
    "    for stroke in ast.literal_eval(strokes):\n",
    "        for i in range(len(stroke[0])-1):\n",
    "            image_draw.line([stroke[0][i], \n",
    "                             stroke[1][i],\n",
    "                             stroke[0][i+1], \n",
    "                             stroke[1][i+1]],\n",
    "                            fill=0, width=5)\n",
    "    image = image.resize((img_size, img_size))\n",
    "    return np.array(image, dtype=np.uint8)"
   ]
  },
  {
   "cell_type": "code",
   "execution_count": 0,
   "metadata": {
    "ExecuteTime": {
     "end_time": "2018-11-06T21:37:30.477833Z",
     "start_time": "2018-11-06T21:37:30.468210Z"
    },
    "colab": {},
    "colab_type": "code",
    "id": "efNa7SJnKyNw"
   },
   "outputs": [],
   "source": [
    "def images_and_labels_generator(batch_size, img_size=224):\n",
    "    for batch in raw_batch_generator(batch_size):\n",
    "        batch_images = []\n",
    "        batch_labels = []\n",
    "        for e in batch:\n",
    "            batch_images.append(draw_it(e[0], img_size))\n",
    "            batch_labels.append(e[1])\n",
    "        batch_images = np.stack(batch_images, axis=0)\n",
    "        yield batch_images, batch_labels"
   ]
  },
  {
   "cell_type": "code",
   "execution_count": 0,
   "metadata": {
    "ExecuteTime": {
     "end_time": "2018-11-06T21:37:37.416742Z",
     "start_time": "2018-11-06T21:37:31.103842Z"
    },
    "colab": {},
    "colab_type": "code",
    "id": "GZWe9tLuKyNz",
    "scrolled": false
   },
   "outputs": [],
   "source": [
    "# test\n",
    "for batch in tqdm.tqdm(images_and_labels_generator(batch_size=32, img_size=IMG_SIZE)):\n",
    "    if np.random.random() < 0.01:\n",
    "        plt.imshow(batch[0][10, :, :])\n",
    "        plt.title(batch[1][10])\n",
    "        plt.show()"
   ]
  },
  {
   "cell_type": "code",
   "execution_count": 0,
   "metadata": {
    "colab": {},
    "colab_type": "code",
    "id": "YOTbMTYNKyN3"
   },
   "outputs": [],
   "source": []
  }
 ],
 "metadata": {
  "accelerator": "GPU",
  "colab": {
   "collapsed_sections": [
    "SyANz8j-KyNF",
    "6Ah5N_WbKyNM",
    "pMaqIRws8yz9",
    "36RmFwO5KyNa"
   ],
   "name": "minor_hw_1_python3.ipynb",
   "provenance": [],
   "version": "0.3.2"
  },
  "kernelspec": {
   "display_name": "Python 3",
   "language": "python",
   "name": "python3"
  },
  "language_info": {
   "codemirror_mode": {
    "name": "ipython",
    "version": 3
   },
   "file_extension": ".py",
   "mimetype": "text/x-python",
   "name": "python",
   "nbconvert_exporter": "python",
   "pygments_lexer": "ipython3",
   "version": "3.6.5"
  }
 },
 "nbformat": 4,
 "nbformat_minor": 1
}
